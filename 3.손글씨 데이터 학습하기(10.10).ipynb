{
 "cells": [
  {
   "cell_type": "code",
   "execution_count": 1,
   "metadata": {},
   "outputs": [],
   "source": [
    "import matplotlib.pyplot as plt\n",
    "from tensorflow.keras.datasets import mnist     #손글씨 데이터"
   ]
  },
  {
   "cell_type": "markdown",
   "metadata": {},
   "source": [
    "### 데이터 로딩"
   ]
  },
  {
   "cell_type": "code",
   "execution_count": 2,
   "metadata": {},
   "outputs": [],
   "source": [
    "data = mnist.load_data()"
   ]
  },
  {
   "cell_type": "code",
   "execution_count": 3,
   "metadata": {},
   "outputs": [],
   "source": [
    "((X_train,y_train),(X_test,y_test)) = data"
   ]
  },
  {
   "cell_type": "code",
   "execution_count": 4,
   "metadata": {},
   "outputs": [
    {
     "name": "stdout",
     "output_type": "stream",
     "text": [
      "(60000, 28, 28)\n",
      "(60000,)\n",
      "(10000, 28, 28)\n",
      "(10000,)\n"
     ]
    }
   ],
   "source": [
    "print(X_train.shape)\n",
    "print(y_train.shape)\n",
    "print(X_test.shape)\n",
    "print(y_test.shape)"
   ]
  },
  {
   "cell_type": "markdown",
   "metadata": {},
   "source": [
    "### 데이터 확인"
   ]
  },
  {
   "cell_type": "code",
   "execution_count": 5,
   "metadata": {},
   "outputs": [
    {
     "data": {
      "text/plain": [
       "<matplotlib.image.AxesImage at 0x1c28c28e390>"
      ]
     },
     "execution_count": 5,
     "metadata": {},
     "output_type": "execute_result"
    },
    {
     "data": {
      "image/png": "[encoded data removed]",
      "text/plain": [
       "<Figure size 432x288 with 1 Axes>"
      ]
     },
     "metadata": {
      "needs_background": "light"
     },
     "output_type": "display_data"
    }
   ],
   "source": [
    "plt.imshow(X_train[15000],cmap='gray')  ##6만장의 사진이 있으니.."
   ]
  },
  {
   "cell_type": "code",
   "execution_count": 6,
   "metadata": {},
   "outputs": [
    {
     "data": {
      "text/plain": [
       "5"
      ]
     },
     "execution_count": 6,
     "metadata": {},
     "output_type": "execute_result"
    }
   ],
   "source": [
    "y_train[15000]"
   ]
  },
  {
   "cell_type": "code",
   "execution_count": 7,
   "metadata": {},
   "outputs": [
    {
     "data": {
      "text/plain": [
       "(28, 28)"
      ]
     },
     "execution_count": 7,
     "metadata": {},
     "output_type": "execute_result"
    }
   ],
   "source": [
    "X_train[15000].shape"
   ]
  },
  {
   "cell_type": "code",
   "execution_count": 8,
   "metadata": {},
   "outputs": [
    {
     "data": {
      "image/png": "[encoded data removed]",
      "text/plain": [
       "<Figure size 432x288 with 1 Axes>"
      ]
     },
     "metadata": {
      "needs_background": "light"
     },
     "output_type": "display_data"
    }
   ],
   "source": [
    "plt.hist(X_train[15000].reshape(-1))\n",
    "plt.show()"
   ]
  },
  {
   "cell_type": "markdown",
   "metadata": {},
   "source": [
    "### 데이터 셋 준비"
   ]
  },
  {
   "cell_type": "markdown",
   "metadata": {},
   "source": [
    "##### 1. X데이터가 현재 2차원으로 되어있다. (28,28) -> 1차원으로 펴줘야한다."
   ]
  },
  {
   "cell_type": "code",
   "execution_count": 9,
   "metadata": {},
   "outputs": [],
   "source": [
    "X_train_reshape = X_train.reshape(60000, -1) ##6만장의사진을1차원으로 펴 버리겠다\n",
    "X_test_reshape = X_test.reshape(10000, -1)"
   ]
  },
  {
   "cell_type": "markdown",
   "metadata": {},
   "source": [
    "##### 2. 정답데이터 (0~9로 구성)  --> 확률 정보로 변경 시키기"
   ]
  },
  {
   "cell_type": "code",
   "execution_count": 10,
   "metadata": {},
   "outputs": [
    {
     "data": {
      "text/plain": [
       "array([0, 1, 2, 3, 4, 5, 6, 7, 8, 9], dtype=uint8)"
      ]
     },
     "execution_count": 10,
     "metadata": {},
     "output_type": "execute_result"
    }
   ],
   "source": [
    "import numpy as np\n",
    "np.unique(y_train) "
   ]
  },
  {
   "cell_type": "markdown",
   "metadata": {},
   "source": [
    "- 현재.. 문제와 답을 가지고 학습하는 지도학습이며 다중분류(10개중 어떤 것이 나올지 분류하는)문제이다\n",
    "- 이를 확률문제로 바꿀 것! (e.g., 0일확률100퍼 1~9일 확률 각각0퍼 ... ==> [100,0,0,0,0,0,0,0,0,0])"
   ]
  },
  {
   "cell_type": "code",
   "execution_count": 11,
   "metadata": {},
   "outputs": [],
   "source": [
    "import pandas as pd\n",
    "y_train_one_hot = pd.get_dummies(y_train)\n",
    "y_test_one_hot = pd.get_dummies(y_test)"
   ]
  },
  {
   "cell_type": "code",
   "execution_count": 12,
   "metadata": {},
   "outputs": [
    {
     "data": {
      "text/html": [
       "<div>\n",
       "<style scoped>\n",
       "    .dataframe tbody tr th:only-of-type {\n",
       "        vertical-align: middle;\n",
       "    }\n",
       "\n",
       "    .dataframe tbody tr th {\n",
       "        vertical-align: top;\n",
       "    }\n",
       "\n",
       "    .dataframe thead th {\n",
       "        text-align: right;\n",
       "    }\n",
       "</style>\n",
       "<table border=\"1\" class=\"dataframe\">\n",
       "  <thead>\n",
       "    <tr style=\"text-align: right;\">\n",
       "      <th></th>\n",
       "      <th>0</th>\n",
       "      <th>1</th>\n",
       "      <th>2</th>\n",
       "      <th>3</th>\n",
       "      <th>4</th>\n",
       "      <th>5</th>\n",
       "      <th>6</th>\n",
       "      <th>7</th>\n",
       "      <th>8</th>\n",
       "      <th>9</th>\n",
       "    </tr>\n",
       "  </thead>\n",
       "  <tbody>\n",
       "    <tr>\n",
       "      <th>0</th>\n",
       "      <td>0</td>\n",
       "      <td>0</td>\n",
       "      <td>0</td>\n",
       "      <td>0</td>\n",
       "      <td>0</td>\n",
       "      <td>1</td>\n",
       "      <td>0</td>\n",
       "      <td>0</td>\n",
       "      <td>0</td>\n",
       "      <td>0</td>\n",
       "    </tr>\n",
       "    <tr>\n",
       "      <th>1</th>\n",
       "      <td>1</td>\n",
       "      <td>0</td>\n",
       "      <td>0</td>\n",
       "      <td>0</td>\n",
       "      <td>0</td>\n",
       "      <td>0</td>\n",
       "      <td>0</td>\n",
       "      <td>0</td>\n",
       "      <td>0</td>\n",
       "      <td>0</td>\n",
       "    </tr>\n",
       "    <tr>\n",
       "      <th>2</th>\n",
       "      <td>0</td>\n",
       "      <td>0</td>\n",
       "      <td>0</td>\n",
       "      <td>0</td>\n",
       "      <td>1</td>\n",
       "      <td>0</td>\n",
       "      <td>0</td>\n",
       "      <td>0</td>\n",
       "      <td>0</td>\n",
       "      <td>0</td>\n",
       "    </tr>\n",
       "    <tr>\n",
       "      <th>3</th>\n",
       "      <td>0</td>\n",
       "      <td>1</td>\n",
       "      <td>0</td>\n",
       "      <td>0</td>\n",
       "      <td>0</td>\n",
       "      <td>0</td>\n",
       "      <td>0</td>\n",
       "      <td>0</td>\n",
       "      <td>0</td>\n",
       "      <td>0</td>\n",
       "    </tr>\n",
       "    <tr>\n",
       "      <th>4</th>\n",
       "      <td>0</td>\n",
       "      <td>0</td>\n",
       "      <td>0</td>\n",
       "      <td>0</td>\n",
       "      <td>0</td>\n",
       "      <td>0</td>\n",
       "      <td>0</td>\n",
       "      <td>0</td>\n",
       "      <td>0</td>\n",
       "      <td>1</td>\n",
       "    </tr>\n",
       "    <tr>\n",
       "      <th>...</th>\n",
       "      <td>...</td>\n",
       "      <td>...</td>\n",
       "      <td>...</td>\n",
       "      <td>...</td>\n",
       "      <td>...</td>\n",
       "      <td>...</td>\n",
       "      <td>...</td>\n",
       "      <td>...</td>\n",
       "      <td>...</td>\n",
       "      <td>...</td>\n",
       "    </tr>\n",
       "    <tr>\n",
       "      <th>59995</th>\n",
       "      <td>0</td>\n",
       "      <td>0</td>\n",
       "      <td>0</td>\n",
       "      <td>0</td>\n",
       "      <td>0</td>\n",
       "      <td>0</td>\n",
       "      <td>0</td>\n",
       "      <td>0</td>\n",
       "      <td>1</td>\n",
       "      <td>0</td>\n",
       "    </tr>\n",
       "    <tr>\n",
       "      <th>59996</th>\n",
       "      <td>0</td>\n",
       "      <td>0</td>\n",
       "      <td>0</td>\n",
       "      <td>1</td>\n",
       "      <td>0</td>\n",
       "      <td>0</td>\n",
       "      <td>0</td>\n",
       "      <td>0</td>\n",
       "      <td>0</td>\n",
       "      <td>0</td>\n",
       "    </tr>\n",
       "    <tr>\n",
       "      <th>59997</th>\n",
       "      <td>0</td>\n",
       "      <td>0</td>\n",
       "      <td>0</td>\n",
       "      <td>0</td>\n",
       "      <td>0</td>\n",
       "      <td>1</td>\n",
       "      <td>0</td>\n",
       "      <td>0</td>\n",
       "      <td>0</td>\n",
       "      <td>0</td>\n",
       "    </tr>\n",
       "    <tr>\n",
       "      <th>59998</th>\n",
       "      <td>0</td>\n",
       "      <td>0</td>\n",
       "      <td>0</td>\n",
       "      <td>0</td>\n",
       "      <td>0</td>\n",
       "      <td>0</td>\n",
       "      <td>1</td>\n",
       "      <td>0</td>\n",
       "      <td>0</td>\n",
       "      <td>0</td>\n",
       "    </tr>\n",
       "    <tr>\n",
       "      <th>59999</th>\n",
       "      <td>0</td>\n",
       "      <td>0</td>\n",
       "      <td>0</td>\n",
       "      <td>0</td>\n",
       "      <td>0</td>\n",
       "      <td>0</td>\n",
       "      <td>0</td>\n",
       "      <td>0</td>\n",
       "      <td>1</td>\n",
       "      <td>0</td>\n",
       "    </tr>\n",
       "  </tbody>\n",
       "</table>\n",
       "<p>60000 rows × 10 columns</p>\n",
       "</div>"
      ],
      "text/plain": [
       "       0  1  2  3  4  5  6  7  8  9\n",
       "0      0  0  0  0  0  1  0  0  0  0\n",
       "1      1  0  0  0  0  0  0  0  0  0\n",
       "2      0  0  0  0  1  0  0  0  0  0\n",
       "3      0  1  0  0  0  0  0  0  0  0\n",
       "4      0  0  0  0  0  0  0  0  0  1\n",
       "...   .. .. .. .. .. .. .. .. .. ..\n",
       "59995  0  0  0  0  0  0  0  0  1  0\n",
       "59996  0  0  0  1  0  0  0  0  0  0\n",
       "59997  0  0  0  0  0  1  0  0  0  0\n",
       "59998  0  0  0  0  0  0  1  0  0  0\n",
       "59999  0  0  0  0  0  0  0  0  1  0\n",
       "\n",
       "[60000 rows x 10 columns]"
      ]
     },
     "execution_count": 12,
     "metadata": {},
     "output_type": "execute_result"
    }
   ],
   "source": [
    "y_train_one_hot"
   ]
  },
  {
   "cell_type": "markdown",
   "metadata": {},
   "source": [
    "### 모델생성\n",
    "- input_dim : 입력하는 데이터의 모양\n",
    "- 출력층의 퍼셉트론 갯수"
   ]
  },
  {
   "cell_type": "code",
   "execution_count": 13,
   "metadata": {},
   "outputs": [],
   "source": [
    "from tensorflow.keras import Sequential\n",
    "from tensorflow.keras.layers import Dense\n",
    "from tensorflow.keras.optimizers import Adam"
   ]
  },
  {
   "cell_type": "code",
   "execution_count": 19,
   "metadata": {},
   "outputs": [],
   "source": [
    "# 1. 모델 구조 생성\n",
    "model = Sequential()\n",
    "\n",
    "model.add(Dense(10, input_dim=784, activation='sigmoid')) ##뉴런추가(eg.아이리스실습이였으면 4개의특성으로 input_dim은 4쓰면 될거고..)\n",
    "\n",
    "model.add(Dense(5, activation='sigmoid'))\n",
    "model.add(Dense(5, activation='sigmoid'))\n",
    "\n",
    "model.add(Dense(10, activation='softmax'))"
   ]
  },
  {
   "cell_type": "code",
   "execution_count": 20,
   "metadata": {},
   "outputs": [],
   "source": [
    "# 2. 모델 학습방법, 평가방법\n",
    "model.compile(loss='categorical_crossentropy', \n",
    "              optimizer=Adam(lr=0.001), ##이렇게 클래스로 객체생성해서 쓸 수 있음 <기본매개변수로 쓰느냐vs뭔가 써보고싶으냐>\n",
    "             metrics=[\"accuracy\"]) ##분류에서 사용하는 가장 일반적인 방법 accuracy"
   ]
  },
  {
   "cell_type": "code",
   "execution_count": 21,
   "metadata": {},
   "outputs": [
    {
     "name": "stdout",
     "output_type": "stream",
     "text": [
      "Train on 48000 samples, validate on 12000 samples\n",
      "Epoch 1/20\n",
      "48000/48000 [==============================] - 3s 63us/sample - loss: 2.1103 - accuracy: 0.2347 - val_loss: 1.8466 - val_accuracy: 0.3099\n",
      "Epoch 2/20\n",
      "48000/48000 [==============================] - 3s 57us/sample - loss: 1.7109 - accuracy: 0.3345 - val_loss: 1.5723 - val_accuracy: 0.3508\n",
      "Epoch 3/20\n",
      "48000/48000 [==============================] - 3s 56us/sample - loss: 1.4514 - accuracy: 0.4338 - val_loss: 1.3250 - val_accuracy: 0.4978\n",
      "Epoch 4/20\n",
      "48000/48000 [==============================] - 3s 57us/sample - loss: 1.2712 - accuracy: 0.5213 - val_loss: 1.2109 - val_accuracy: 0.5458\n",
      "Epoch 5/20\n",
      "48000/48000 [==============================] - 3s 57us/sample - loss: 1.1854 - accuracy: 0.5551 - val_loss: 1.1468 - val_accuracy: 0.5704\n",
      "Epoch 6/20\n",
      "48000/48000 [==============================] - 3s 55us/sample - loss: 1.1320 - accuracy: 0.5797 - val_loss: 1.0606 - val_accuracy: 0.6118\n",
      "Epoch 7/20\n",
      "48000/48000 [==============================] - 3s 56us/sample - loss: 1.0673 - accuracy: 0.6137 - val_loss: 1.0309 - val_accuracy: 0.6689\n",
      "Epoch 8/20\n",
      "48000/48000 [==============================] - 3s 56us/sample - loss: 1.0463 - accuracy: 0.6395 - val_loss: 0.9866 - val_accuracy: 0.6796\n",
      "Epoch 9/20\n",
      "48000/48000 [==============================] - 3s 55us/sample - loss: 1.0037 - accuracy: 0.6461 - val_loss: 0.9790 - val_accuracy: 0.6601\n",
      "Epoch 10/20\n",
      "48000/48000 [==============================] - 3s 57us/sample - loss: 0.9747 - accuracy: 0.6788 - val_loss: 0.9335 - val_accuracy: 0.6757\n",
      "Epoch 11/20\n",
      "48000/48000 [==============================] - 3s 55us/sample - loss: 0.9473 - accuracy: 0.6931 - val_loss: 0.8819 - val_accuracy: 0.7358\n",
      "Epoch 12/20\n",
      "48000/48000 [==============================] - 3s 55us/sample - loss: 0.9046 - accuracy: 0.7221 - val_loss: 0.8708 - val_accuracy: 0.7511\n",
      "Epoch 13/20\n",
      "48000/48000 [==============================] - 3s 58us/sample - loss: 0.8603 - accuracy: 0.7509 - val_loss: 0.7984 - val_accuracy: 0.7728\n",
      "Epoch 14/20\n",
      "48000/48000 [==============================] - 3s 56us/sample - loss: 0.8142 - accuracy: 0.7623 - val_loss: 0.7453 - val_accuracy: 0.7977\n",
      "Epoch 15/20\n",
      "48000/48000 [==============================] - 3s 56us/sample - loss: 0.7880 - accuracy: 0.7774 - val_loss: 0.7270 - val_accuracy: 0.8023\n",
      "Epoch 16/20\n",
      "48000/48000 [==============================] - 3s 58us/sample - loss: 0.7566 - accuracy: 0.7832 - val_loss: 0.7029 - val_accuracy: 0.8148\n",
      "Epoch 17/20\n",
      "48000/48000 [==============================] - 3s 57us/sample - loss: 0.7368 - accuracy: 0.7887 - val_loss: 0.6968 - val_accuracy: 0.7963\n",
      "Epoch 18/20\n",
      "48000/48000 [==============================] - 3s 58us/sample - loss: 0.7306 - accuracy: 0.7852 - val_loss: 0.6857 - val_accuracy: 0.8027\n",
      "Epoch 19/20\n",
      "48000/48000 [==============================] - 3s 57us/sample - loss: 0.7070 - accuracy: 0.7997 - val_loss: 0.6600 - val_accuracy: 0.8148\n",
      "Epoch 20/20\n",
      "48000/48000 [==============================] - 3s 57us/sample - loss: 0.6905 - accuracy: 0.8027 - val_loss: 0.6586 - val_accuracy: 0.8116\n"
     ]
    }
   ],
   "source": [
    "# 3. 모델 학습하기\n",
    "history = model.fit(X_train_reshape,\n",
    "                    y_train_one_hot,\n",
    "                    validation_split=0.2,\n",
    "                    epochs=20)\n",
    "##배치사이즈 생략시 기본값 32"
   ]
  },
  {
   "cell_type": "code",
   "execution_count": 22,
   "metadata": {},
   "outputs": [
    {
     "data": {
      "image/png": "[encoded data removed]",
      "text/plain": [
       "<Figure size 720x360 with 1 Axes>"
      ]
     },
     "metadata": {
      "needs_background": "light"
     },
     "output_type": "display_data"
    }
   ],
   "source": [
    "plt.figure(figsize=(10,5))     # 가로, 세로\n",
    "plt.plot(history.history['accuracy'], label='train') # 훈련용 데이터로 평가한 점수\n",
    "plt.plot(history.history['val_accuracy'], label='val') #검증용 데이터로 평가한 점수\n",
    "plt.legend()   #범례\n",
    "plt.show()"
   ]
  },
  {
   "cell_type": "code",
   "execution_count": 23,
   "metadata": {},
   "outputs": [
    {
     "name": "stdout",
     "output_type": "stream",
     "text": [
      "10000/10000 [==============================] - 0s 46us/sample - loss: 0.6779 - accuracy: 0.8087\n"
     ]
    },
    {
     "data": {
      "text/plain": [
       "[0.6778978430747986, 0.8087]"
      ]
     },
     "execution_count": 23,
     "metadata": {},
     "output_type": "execute_result"
    }
   ],
   "source": [
    "model.evaluate(X_test_reshape, y_test_one_hot)"
   ]
  },
  {
   "cell_type": "code",
   "execution_count": 24,
   "metadata": {},
   "outputs": [
    {
     "name": "stdout",
     "output_type": "stream",
     "text": [
      "Model: \"sequential_1\"\n",
      "_________________________________________________________________\n",
      "Layer (type)                 Output Shape              Param #   \n",
      "=================================================================\n",
      "dense_4 (Dense)              (None, 10)                7850      \n",
      "_________________________________________________________________\n",
      "dense_5 (Dense)              (None, 5)                 55        \n",
      "_________________________________________________________________\n",
      "dense_6 (Dense)              (None, 5)                 30        \n",
      "_________________________________________________________________\n",
      "dense_7 (Dense)              (None, 10)                60        \n",
      "=================================================================\n",
      "Total params: 7,995\n",
      "Trainable params: 7,995\n",
      "Non-trainable params: 0\n",
      "_________________________________________________________________\n"
     ]
    }
   ],
   "source": [
    "model.summary()"
   ]
  },
  {
   "cell_type": "markdown",
   "metadata": {},
   "source": [
    "Total params = 딥러닝에서 학습하는 가중치의 갯수"
   ]
  },
  {
   "cell_type": "code",
   "execution_count": null,
   "metadata": {},
   "outputs": [],
   "source": []
  }
 ],
 "metadata": {
  "kernelspec": {
   "display_name": "Python 3",
   "language": "python",
   "name": "python3"
  },
  "language_info": {
   "codemirror_mode": {
    "name": "ipython",
    "version": 3
   },
   "file_extension": ".py",
   "mimetype": "text/x-python",
   "name": "python",
   "nbconvert_exporter": "python",
   "pygments_lexer": "ipython3",
   "version": "3.6.12"
  }
 },
 "nbformat": 4,
 "nbformat_minor": 4
}
