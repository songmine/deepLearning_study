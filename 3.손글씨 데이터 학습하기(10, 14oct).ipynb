{
 "cells": [
  {
   "cell_type": "code",
   "execution_count": 2,
   "metadata": {},
   "outputs": [],
   "source": [
    "import matplotlib.pyplot as plt\n",
    "from tensorflow.keras.datasets import mnist     #손글씨 데이터"
   ]
  },
  {
   "cell_type": "markdown",
   "metadata": {},
   "source": [
    "### 데이터 로딩"
   ]
  },
  {
   "cell_type": "code",
   "execution_count": 3,
   "metadata": {},
   "outputs": [],
   "source": [
    "data = mnist.load_data()"
   ]
  },
  {
   "cell_type": "code",
   "execution_count": 4,
   "metadata": {},
   "outputs": [],
   "source": [
    "((X_train,y_train),(X_test,y_test)) = data"
   ]
  },
  {
   "cell_type": "code",
   "execution_count": 5,
   "metadata": {},
   "outputs": [
    {
     "name": "stdout",
     "output_type": "stream",
     "text": [
      "(60000, 28, 28)\n",
      "(60000,)\n",
      "(10000, 28, 28)\n",
      "(10000,)\n"
     ]
    }
   ],
   "source": [
    "print(X_train.shape)\n",
    "print(y_train.shape)\n",
    "print(X_test.shape)\n",
    "print(y_test.shape)"
   ]
  },
  {
   "cell_type": "markdown",
   "metadata": {},
   "source": [
    "### 데이터 확인"
   ]
  },
  {
   "cell_type": "code",
   "execution_count": 6,
   "metadata": {},
   "outputs": [
    {
     "data": {
      "text/plain": [
       "<matplotlib.image.AxesImage at 0x18d11a2e5c8>"
      ]
     },
     "execution_count": 6,
     "metadata": {},
     "output_type": "execute_result"
    },
    {
     "data": {
      "image/png": "[encoded data removed]",
      "text/plain": [
       "<Figure size 432x288 with 1 Axes>"
      ]
     },
     "metadata": {
      "needs_background": "light"
     },
     "output_type": "display_data"
    }
   ],
   "source": [
    "## imshow 이미지출력함수\n",
    "plt.imshow(X_train[15000],cmap='gray')  ##6만장의 사진이 있으니.."
   ]
  },
  {
   "cell_type": "code",
   "execution_count": 6,
   "metadata": {},
   "outputs": [
    {
     "data": {
      "text/plain": [
       "5"
      ]
     },
     "execution_count": 6,
     "metadata": {},
     "output_type": "execute_result"
    }
   ],
   "source": [
    "y_train[15000]  ## 15000번째 데이터의 정답"
   ]
  },
  {
   "cell_type": "code",
   "execution_count": 7,
   "metadata": {},
   "outputs": [
    {
     "data": {
      "text/plain": [
       "(28, 28)"
      ]
     },
     "execution_count": 7,
     "metadata": {},
     "output_type": "execute_result"
    }
   ],
   "source": [
    "X_train[15000].shape"
   ]
  },
  {
   "cell_type": "code",
   "execution_count": 8,
   "metadata": {},
   "outputs": [
    {
     "data": {
      "image/png": "[encoded data removed]",
      "text/plain": [
       "<Figure size 432x288 with 1 Axes>"
      ]
     },
     "metadata": {
      "needs_background": "light"
     },
     "output_type": "display_data"
    }
   ],
   "source": [
    "plt.hist(X_train[15000].reshape(-1))\n",
    "plt.show()"
   ]
  },
  {
   "cell_type": "markdown",
   "metadata": {},
   "source": [
    "### 데이터 셋 준비"
   ]
  },
  {
   "cell_type": "markdown",
   "metadata": {},
   "source": [
    "##### 1. X데이터가 현재 2차원으로 되어있다. (28,28) -> 1차원으로 펴줘야한다."
   ]
  },
  {
   "cell_type": "code",
   "execution_count": 9,
   "metadata": {},
   "outputs": [],
   "source": [
    "X_train_reshape = X_train.reshape(60000, -1) ##6만장의사진을1차원으로 펴 버리겠다\n",
    "X_test_reshape = X_test.reshape(10000, -1)"
   ]
  },
  {
   "cell_type": "markdown",
   "metadata": {},
   "source": [
    "##### 2. 정답데이터 (0~9로 구성)  --> 확률 정보로 변경 시키기"
   ]
  },
  {
   "cell_type": "code",
   "execution_count": 10,
   "metadata": {},
   "outputs": [
    {
     "data": {
      "text/plain": [
       "array([0, 1, 2, 3, 4, 5, 6, 7, 8, 9], dtype=uint8)"
      ]
     },
     "execution_count": 10,
     "metadata": {},
     "output_type": "execute_result"
    }
   ],
   "source": [
    "import numpy as np\n",
    "np.unique(y_train) "
   ]
  },
  {
   "cell_type": "markdown",
   "metadata": {},
   "source": [
    "- 현재.. 문제와 답을 가지고 학습하는 지도학습이며 다중분류(10개중 어떤 것이 나올지 분류하는)문제이다\n",
    "- 이를 확률문제로 바꿀 것! (e.g., 0일확률100퍼 1~9일 확률 각각0퍼 ... ==> [100,0,0,0,0,0,0,0,0,0])"
   ]
  },
  {
   "cell_type": "code",
   "execution_count": 11,
   "metadata": {},
   "outputs": [],
   "source": [
    "import pandas as pd\n",
    "y_train_one_hot = pd.get_dummies(y_train)\n",
    "y_test_one_hot = pd.get_dummies(y_test)"
   ]
  },
  {
   "cell_type": "code",
   "execution_count": 12,
   "metadata": {},
   "outputs": [
    {
     "data": {
      "text/html": [
       "<div>\n",
       "<style scoped>\n",
       "    .dataframe tbody tr th:only-of-type {\n",
       "        vertical-align: middle;\n",
       "    }\n",
       "\n",
       "    .dataframe tbody tr th {\n",
       "        vertical-align: top;\n",
       "    }\n",
       "\n",
       "    .dataframe thead th {\n",
       "        text-align: right;\n",
       "    }\n",
       "</style>\n",
       "<table border=\"1\" class=\"dataframe\">\n",
       "  <thead>\n",
       "    <tr style=\"text-align: right;\">\n",
       "      <th></th>\n",
       "      <th>0</th>\n",
       "      <th>1</th>\n",
       "      <th>2</th>\n",
       "      <th>3</th>\n",
       "      <th>4</th>\n",
       "      <th>5</th>\n",
       "      <th>6</th>\n",
       "      <th>7</th>\n",
       "      <th>8</th>\n",
       "      <th>9</th>\n",
       "    </tr>\n",
       "  </thead>\n",
       "  <tbody>\n",
       "    <tr>\n",
       "      <th>0</th>\n",
       "      <td>0</td>\n",
       "      <td>0</td>\n",
       "      <td>0</td>\n",
       "      <td>0</td>\n",
       "      <td>0</td>\n",
       "      <td>1</td>\n",
       "      <td>0</td>\n",
       "      <td>0</td>\n",
       "      <td>0</td>\n",
       "      <td>0</td>\n",
       "    </tr>\n",
       "    <tr>\n",
       "      <th>1</th>\n",
       "      <td>1</td>\n",
       "      <td>0</td>\n",
       "      <td>0</td>\n",
       "      <td>0</td>\n",
       "      <td>0</td>\n",
       "      <td>0</td>\n",
       "      <td>0</td>\n",
       "      <td>0</td>\n",
       "      <td>0</td>\n",
       "      <td>0</td>\n",
       "    </tr>\n",
       "    <tr>\n",
       "      <th>2</th>\n",
       "      <td>0</td>\n",
       "      <td>0</td>\n",
       "      <td>0</td>\n",
       "      <td>0</td>\n",
       "      <td>1</td>\n",
       "      <td>0</td>\n",
       "      <td>0</td>\n",
       "      <td>0</td>\n",
       "      <td>0</td>\n",
       "      <td>0</td>\n",
       "    </tr>\n",
       "    <tr>\n",
       "      <th>3</th>\n",
       "      <td>0</td>\n",
       "      <td>1</td>\n",
       "      <td>0</td>\n",
       "      <td>0</td>\n",
       "      <td>0</td>\n",
       "      <td>0</td>\n",
       "      <td>0</td>\n",
       "      <td>0</td>\n",
       "      <td>0</td>\n",
       "      <td>0</td>\n",
       "    </tr>\n",
       "    <tr>\n",
       "      <th>4</th>\n",
       "      <td>0</td>\n",
       "      <td>0</td>\n",
       "      <td>0</td>\n",
       "      <td>0</td>\n",
       "      <td>0</td>\n",
       "      <td>0</td>\n",
       "      <td>0</td>\n",
       "      <td>0</td>\n",
       "      <td>0</td>\n",
       "      <td>1</td>\n",
       "    </tr>\n",
       "    <tr>\n",
       "      <th>...</th>\n",
       "      <td>...</td>\n",
       "      <td>...</td>\n",
       "      <td>...</td>\n",
       "      <td>...</td>\n",
       "      <td>...</td>\n",
       "      <td>...</td>\n",
       "      <td>...</td>\n",
       "      <td>...</td>\n",
       "      <td>...</td>\n",
       "      <td>...</td>\n",
       "    </tr>\n",
       "    <tr>\n",
       "      <th>59995</th>\n",
       "      <td>0</td>\n",
       "      <td>0</td>\n",
       "      <td>0</td>\n",
       "      <td>0</td>\n",
       "      <td>0</td>\n",
       "      <td>0</td>\n",
       "      <td>0</td>\n",
       "      <td>0</td>\n",
       "      <td>1</td>\n",
       "      <td>0</td>\n",
       "    </tr>\n",
       "    <tr>\n",
       "      <th>59996</th>\n",
       "      <td>0</td>\n",
       "      <td>0</td>\n",
       "      <td>0</td>\n",
       "      <td>1</td>\n",
       "      <td>0</td>\n",
       "      <td>0</td>\n",
       "      <td>0</td>\n",
       "      <td>0</td>\n",
       "      <td>0</td>\n",
       "      <td>0</td>\n",
       "    </tr>\n",
       "    <tr>\n",
       "      <th>59997</th>\n",
       "      <td>0</td>\n",
       "      <td>0</td>\n",
       "      <td>0</td>\n",
       "      <td>0</td>\n",
       "      <td>0</td>\n",
       "      <td>1</td>\n",
       "      <td>0</td>\n",
       "      <td>0</td>\n",
       "      <td>0</td>\n",
       "      <td>0</td>\n",
       "    </tr>\n",
       "    <tr>\n",
       "      <th>59998</th>\n",
       "      <td>0</td>\n",
       "      <td>0</td>\n",
       "      <td>0</td>\n",
       "      <td>0</td>\n",
       "      <td>0</td>\n",
       "      <td>0</td>\n",
       "      <td>1</td>\n",
       "      <td>0</td>\n",
       "      <td>0</td>\n",
       "      <td>0</td>\n",
       "    </tr>\n",
       "    <tr>\n",
       "      <th>59999</th>\n",
       "      <td>0</td>\n",
       "      <td>0</td>\n",
       "      <td>0</td>\n",
       "      <td>0</td>\n",
       "      <td>0</td>\n",
       "      <td>0</td>\n",
       "      <td>0</td>\n",
       "      <td>0</td>\n",
       "      <td>1</td>\n",
       "      <td>0</td>\n",
       "    </tr>\n",
       "  </tbody>\n",
       "</table>\n",
       "<p>60000 rows × 10 columns</p>\n",
       "</div>"
      ],
      "text/plain": [
       "       0  1  2  3  4  5  6  7  8  9\n",
       "0      0  0  0  0  0  1  0  0  0  0\n",
       "1      1  0  0  0  0  0  0  0  0  0\n",
       "2      0  0  0  0  1  0  0  0  0  0\n",
       "3      0  1  0  0  0  0  0  0  0  0\n",
       "4      0  0  0  0  0  0  0  0  0  1\n",
       "...   .. .. .. .. .. .. .. .. .. ..\n",
       "59995  0  0  0  0  0  0  0  0  1  0\n",
       "59996  0  0  0  1  0  0  0  0  0  0\n",
       "59997  0  0  0  0  0  1  0  0  0  0\n",
       "59998  0  0  0  0  0  0  1  0  0  0\n",
       "59999  0  0  0  0  0  0  0  0  1  0\n",
       "\n",
       "[60000 rows x 10 columns]"
      ]
     },
     "execution_count": 12,
     "metadata": {},
     "output_type": "execute_result"
    }
   ],
   "source": [
    "y_train_one_hot"
   ]
  },
  {
   "cell_type": "markdown",
   "metadata": {},
   "source": [
    "### 모델생성\n",
    "- input_dim : 입력하는 데이터의 모양\n",
    "- 출력층의 퍼셉트론 갯수"
   ]
  },
  {
   "cell_type": "code",
   "execution_count": 13,
   "metadata": {},
   "outputs": [],
   "source": [
    "import numpy as np\n",
    "import tensorflow\n",
    "seed = 0\n",
    "np.random.seed(seed)\n",
    "tensorflow.random.set_seed(seed)"
   ]
  },
  {
   "cell_type": "code",
   "execution_count": 14,
   "metadata": {},
   "outputs": [],
   "source": [
    "from tensorflow.keras import Sequential\n",
    "from tensorflow.keras.layers import Dense\n",
    "from tensorflow.keras.optimizers import Adam"
   ]
  },
  {
   "cell_type": "code",
   "execution_count": 15,
   "metadata": {},
   "outputs": [],
   "source": [
    "# 1. 모델 구조 생성\n",
    "model = Sequential()\n",
    "\n",
    "model.add(Dense(512, input_dim=784, activation='relu')) ##뉴런추가(eg.아이리스실습이였으면 4개의특성으로 input_dim은 4쓰면 될거고..)\n",
    "\n",
    "model.add(Dense(256, activation='relu'))\n",
    "model.add(Dense(128, activation='relu'))\n",
    "model.add(Dense(64, activation='relu'))\n",
    "model.add(Dense(32, activation='relu'))\n",
    "\n",
    "model.add(Dense(10, activation='softmax'))"
   ]
  },
  {
   "cell_type": "code",
   "execution_count": 16,
   "metadata": {},
   "outputs": [],
   "source": [
    "# 2. 모델 학습방법, 평가방법\n",
    "model.compile(loss='categorical_crossentropy', \n",
    "              optimizer=Adam(lr=0.001), ##이렇게 클래스로 객체생성해서 쓸 수 있음 <기본매개변수로 쓰느냐vs뭔가 써보고싶으냐>\n",
    "             metrics=[\"accuracy\"]) ##분류에서 사용하는 가장 일반적인 방법 accuracy"
   ]
  },
  {
   "cell_type": "markdown",
   "metadata": {},
   "source": [
    "#### 베스트 모델을 저장"
   ]
  },
  {
   "cell_type": "code",
   "execution_count": 17,
   "metadata": {},
   "outputs": [],
   "source": [
    "import os\n",
    "# 베스트 모델을 찾아서 저장\n",
    "from tensorflow.keras.callbacks import ModelCheckpoint\n",
    "# 학습이 더 이상 나아지지 않는다면 학습을 중단\n",
    "from tensorflow.keras.callbacks import EarlyStopping\n",
    "\n",
    "BEST_MODEL_DIR = \".\\\\model\\\\\"   ## 모델을 저장하는 폴더\n",
    "\n",
    "if not os.path.exists(BEST_MODEL_DIR):   ## 만일 위의 폴더가 존재하지 않으면\n",
    "    os.mkdir(BEST_MODEL_DIR)              ## 이 이름의 폴더를 만들어라!\n",
    "    \n",
    "# eg. mnist_001-70.2246.hd5\n",
    "BEST_MODEL_PATH = BEST_MODEL_DIR + \"mnist_{epoch:03d}-{val_accuracy:.4f}.hd5\"\n",
    "\n",
    "# filepath : 베스트 모델을 저장할 경로\n",
    "# monitor : 베스트 모델을 찾을 기준\n",
    "# save_best_only : 베스트 모델만 저장\n",
    "# verbose : 실행 과정을 출력 (0 : 출력 안함)\n",
    "mc = ModelCheckpoint(filepath=BEST_MODEL_PATH,\n",
    "                    monitor=\"val_accuracy\",\n",
    "                    save_best_only=True,\n",
    "                    verbose=1)\n",
    "\n",
    "# monitor : 중지할 기준\n",
    "# patience : 학습이 나아지지 않더라도 진행하는 반복횟수\n",
    "et = EarlyStopping(monitor=\"val_accuracy\",\n",
    "                  patience=5)"
   ]
  },
  {
   "cell_type": "code",
   "execution_count": 18,
   "metadata": {},
   "outputs": [
    {
     "name": "stdout",
     "output_type": "stream",
     "text": [
      "Train on 48000 samples, validate on 12000 samples\n",
      "Epoch 1/2000\n",
      "47200/48000 [============================>.] - ETA: 0s - loss: 0.5547 - accuracy: 0.8833\n",
      "Epoch 00001: val_accuracy improved from -inf to 0.94275, saving model to .\\model\\mnist_001-0.9427.hd5\n",
      "WARNING:tensorflow:From C:\\Users\\SMT078\\anaconda3\\envs\\deep01\\lib\\site-packages\\tensorflow_core\\python\\ops\\resource_variable_ops.py:1786: calling BaseResourceVariable.__init__ (from tensorflow.python.ops.resource_variable_ops) with constraint is deprecated and will be removed in a future version.\n",
      "Instructions for updating:\n",
      "If using Keras pass *_constraint arguments to layers.\n",
      "INFO:tensorflow:Assets written to: .\\model\\mnist_001-0.9427.hd5\\assets\n",
      "48000/48000 [==============================] - 5s 107us/sample - loss: 0.5487 - accuracy: 0.8843 - val_loss: 0.2092 - val_accuracy: 0.9427\n",
      "Epoch 2/2000\n",
      "47936/48000 [============================>.] - ETA: 0s - loss: 0.1829 - accuracy: 0.9482\n",
      "Epoch 00002: val_accuracy improved from 0.94275 to 0.96042, saving model to .\\model\\mnist_002-0.9604.hd5\n",
      "INFO:tensorflow:Assets written to: .\\model\\mnist_002-0.9604.hd5\\assets\n",
      "48000/48000 [==============================] - 4s 91us/sample - loss: 0.1828 - accuracy: 0.9483 - val_loss: 0.1429 - val_accuracy: 0.9604\n",
      "Epoch 3/2000\n",
      "47648/48000 [============================>.] - ETA: 0s - loss: 0.1392 - accuracy: 0.9605\n",
      "Epoch 00003: val_accuracy improved from 0.96042 to 0.96158, saving model to .\\model\\mnist_003-0.9616.hd5\n",
      "INFO:tensorflow:Assets written to: .\\model\\mnist_003-0.9616.hd5\\assets\n",
      "48000/48000 [==============================] - 4s 88us/sample - loss: 0.1388 - accuracy: 0.9606 - val_loss: 0.1404 - val_accuracy: 0.9616\n",
      "Epoch 4/2000\n",
      "47872/48000 [============================>.] - ETA: 0s - loss: 0.1219 - accuracy: 0.9662\n",
      "Epoch 00004: val_accuracy improved from 0.96158 to 0.96358, saving model to .\\model\\mnist_004-0.9636.hd5\n",
      "INFO:tensorflow:Assets written to: .\\model\\mnist_004-0.9636.hd5\\assets\n",
      "48000/48000 [==============================] - 4s 91us/sample - loss: 0.1218 - accuracy: 0.9662 - val_loss: 0.1562 - val_accuracy: 0.9636\n",
      "Epoch 5/2000\n",
      "47552/48000 [============================>.] - ETA: 0s - loss: 0.1031 - accuracy: 0.9710\n",
      "Epoch 00005: val_accuracy improved from 0.96358 to 0.96517, saving model to .\\model\\mnist_005-0.9652.hd5\n",
      "INFO:tensorflow:Assets written to: .\\model\\mnist_005-0.9652.hd5\\assets\n",
      "48000/48000 [==============================] - 4s 90us/sample - loss: 0.1033 - accuracy: 0.9710 - val_loss: 0.1276 - val_accuracy: 0.9652\n",
      "Epoch 6/2000\n",
      "47232/48000 [============================>.] - ETA: 0s - loss: 0.0854 - accuracy: 0.9766\n",
      "Epoch 00006: val_accuracy did not improve from 0.96517\n",
      "48000/48000 [==============================] - 3s 72us/sample - loss: 0.0857 - accuracy: 0.9766 - val_loss: 0.1620 - val_accuracy: 0.9566\n",
      "Epoch 7/2000\n",
      "47392/48000 [============================>.] - ETA: 0s - loss: 0.0807 - accuracy: 0.9778\n",
      "Epoch 00007: val_accuracy did not improve from 0.96517\n",
      "48000/48000 [==============================] - 3s 72us/sample - loss: 0.0810 - accuracy: 0.9777 - val_loss: 0.1539 - val_accuracy: 0.9622\n",
      "Epoch 8/2000\n",
      "47872/48000 [============================>.] - ETA: 0s - loss: 0.0746 - accuracy: 0.9806\n",
      "Epoch 00008: val_accuracy improved from 0.96517 to 0.96675, saving model to .\\model\\mnist_008-0.9668.hd5\n",
      "INFO:tensorflow:Assets written to: .\\model\\mnist_008-0.9668.hd5\\assets\n",
      "48000/48000 [==============================] - 4s 92us/sample - loss: 0.0745 - accuracy: 0.9806 - val_loss: 0.1379 - val_accuracy: 0.9668\n",
      "Epoch 9/2000\n",
      "47776/48000 [============================>.] - ETA: 0s - loss: 0.0617 - accuracy: 0.9837\n",
      "Epoch 00009: val_accuracy improved from 0.96675 to 0.97175, saving model to .\\model\\mnist_009-0.9718.hd5\n",
      "INFO:tensorflow:Assets written to: .\\model\\mnist_009-0.9718.hd5\\assets\n",
      "48000/48000 [==============================] - 4s 92us/sample - loss: 0.0621 - accuracy: 0.9836 - val_loss: 0.1390 - val_accuracy: 0.9718\n",
      "Epoch 10/2000\n",
      "47168/48000 [============================>.] - ETA: 0s - loss: 0.0598 - accuracy: 0.9843\n",
      "Epoch 00010: val_accuracy improved from 0.97175 to 0.97517, saving model to .\\model\\mnist_010-0.9752.hd5\n",
      "INFO:tensorflow:Assets written to: .\\model\\mnist_010-0.9752.hd5\\assets\n",
      "48000/48000 [==============================] - 4s 91us/sample - loss: 0.0596 - accuracy: 0.9843 - val_loss: 0.1228 - val_accuracy: 0.9752\n",
      "Epoch 11/2000\n",
      "47136/48000 [============================>.] - ETA: 0s - loss: 0.0536 - accuracy: 0.9866\n",
      "Epoch 00011: val_accuracy did not improve from 0.97517\n",
      "48000/48000 [==============================] - 4s 73us/sample - loss: 0.0533 - accuracy: 0.9867 - val_loss: 0.1297 - val_accuracy: 0.9747\n",
      "Epoch 12/2000\n",
      "47328/48000 [============================>.] - ETA: 0s - loss: 0.0547 - accuracy: 0.9859\n",
      "Epoch 00012: val_accuracy did not improve from 0.97517\n",
      "48000/48000 [==============================] - 3s 71us/sample - loss: 0.0547 - accuracy: 0.9860 - val_loss: 0.1358 - val_accuracy: 0.9735\n",
      "Epoch 13/2000\n",
      "47392/48000 [============================>.] - ETA: 0s - loss: 0.0450 - accuracy: 0.9888\n",
      "Epoch 00013: val_accuracy did not improve from 0.97517\n",
      "48000/48000 [==============================] - 4s 74us/sample - loss: 0.0455 - accuracy: 0.9888 - val_loss: 0.1700 - val_accuracy: 0.9668\n",
      "Epoch 14/2000\n",
      "47360/48000 [============================>.] - ETA: 0s - loss: 0.0396 - accuracy: 0.9897\n",
      "Epoch 00014: val_accuracy did not improve from 0.97517\n",
      "48000/48000 [==============================] - 4s 74us/sample - loss: 0.0395 - accuracy: 0.9897 - val_loss: 0.1746 - val_accuracy: 0.9688\n",
      "Epoch 15/2000\n",
      "47264/48000 [============================>.] - ETA: 0s - loss: 0.0419 - accuracy: 0.9899\n",
      "Epoch 00015: val_accuracy improved from 0.97517 to 0.97558, saving model to .\\model\\mnist_015-0.9756.hd5\n",
      "INFO:tensorflow:Assets written to: .\\model\\mnist_015-0.9756.hd5\\assets\n",
      "48000/48000 [==============================] - 4s 90us/sample - loss: 0.0417 - accuracy: 0.9899 - val_loss: 0.1437 - val_accuracy: 0.9756\n",
      "Epoch 16/2000\n",
      "47936/48000 [============================>.] - ETA: 0s - loss: 0.0389 - accuracy: 0.9907\n",
      "Epoch 00016: val_accuracy improved from 0.97558 to 0.97650, saving model to .\\model\\mnist_016-0.9765.hd5\n",
      "INFO:tensorflow:Assets written to: .\\model\\mnist_016-0.9765.hd5\\assets\n",
      "48000/48000 [==============================] - 4s 94us/sample - loss: 0.0389 - accuracy: 0.9907 - val_loss: 0.1362 - val_accuracy: 0.9765\n",
      "Epoch 17/2000\n",
      "47872/48000 [============================>.] - ETA: 0s - loss: 0.0381 - accuracy: 0.9904\n",
      "Epoch 00017: val_accuracy did not improve from 0.97650\n",
      "48000/48000 [==============================] - 3s 71us/sample - loss: 0.0380 - accuracy: 0.9904 - val_loss: 0.1694 - val_accuracy: 0.9761\n",
      "Epoch 18/2000\n",
      "47712/48000 [============================>.] - ETA: 0s - loss: 0.0363 - accuracy: 0.9917\n",
      "Epoch 00018: val_accuracy did not improve from 0.97650\n",
      "48000/48000 [==============================] - 3s 72us/sample - loss: 0.0362 - accuracy: 0.9918 - val_loss: 0.1593 - val_accuracy: 0.9733\n",
      "Epoch 19/2000\n",
      "47648/48000 [============================>.] - ETA: 0s - loss: 0.0339 - accuracy: 0.9922\n",
      "Epoch 00019: val_accuracy did not improve from 0.97650\n",
      "48000/48000 [==============================] - 3s 71us/sample - loss: 0.0337 - accuracy: 0.9923 - val_loss: 0.1678 - val_accuracy: 0.9720\n",
      "Epoch 20/2000\n",
      "47328/48000 [============================>.] - ETA: 0s - loss: 0.0438 - accuracy: 0.9920\n",
      "Epoch 00020: val_accuracy did not improve from 0.97650\n",
      "48000/48000 [==============================] - 3s 71us/sample - loss: 0.0436 - accuracy: 0.9920 - val_loss: 0.1354 - val_accuracy: 0.9758\n",
      "Epoch 21/2000\n",
      "47776/48000 [============================>.] - ETA: 0s - loss: 0.0322 - accuracy: 0.9927\n",
      "Epoch 00021: val_accuracy did not improve from 0.97650\n",
      "48000/48000 [==============================] - 3s 72us/sample - loss: 0.0321 - accuracy: 0.9927 - val_loss: 0.1428 - val_accuracy: 0.9757\n"
     ]
    }
   ],
   "source": [
    "# 3. 모델 학습하기\n",
    "history = model.fit(X_train_reshape,\n",
    "                    y_train_one_hot,\n",
    "                    validation_split=0.2,\n",
    "                    epochs=2000,\n",
    "                   callbacks=[mc, et])   ##fit 할때마다 callbacks 함수 호출하는 것\n",
    "##배치사이즈 생략시 기본값 32"
   ]
  },
  {
   "cell_type": "code",
   "execution_count": 19,
   "metadata": {},
   "outputs": [
    {
     "data": {
      "image/png": "[encoded data removed]",
      "text/plain": [
       "<Figure size 720x360 with 1 Axes>"
      ]
     },
     "metadata": {
      "needs_background": "light"
     },
     "output_type": "display_data"
    }
   ],
   "source": [
    "plt.figure(figsize=(10,5))     # 가로, 세로\n",
    "plt.plot(history.history['accuracy'], label='train') # 훈련용 데이터로 평가한 점수\n",
    "plt.plot(history.history['val_accuracy'], label='val') #검증용 데이터로 평가한 점수\n",
    "plt.legend()   #범례\n",
    "plt.show()"
   ]
  },
  {
   "cell_type": "markdown",
   "metadata": {},
   "source": [
    "- 과소: val>train (훈련을 했는데 다 맞춤) \n",
    "- test가 더 낮게 나와야함"
   ]
  },
  {
   "cell_type": "markdown",
   "metadata": {},
   "source": [
    "# 10.14"
   ]
  },
  {
   "cell_type": "markdown",
   "metadata": {},
   "source": [
    "### 모델을 저장"
   ]
  },
  {
   "cell_type": "code",
   "execution_count": 20,
   "metadata": {},
   "outputs": [],
   "source": [
    "import os\n",
    "\n",
    "MODEL_DIR =\".\\\\model\\\\\"  ## \\하나쓰면 줄넘김\n",
    "\n",
    "# 해당 폴더가 없다면 폴더를 생성\n",
    "if not os.path.exists(MODEL_DIR): ##해당되는 폴더가 없다면\n",
    "    os.mkdir(MODEL_DIR)"
   ]
  },
  {
   "cell_type": "code",
   "execution_count": 31,
   "metadata": {},
   "outputs": [
    {
     "name": "stdout",
     "output_type": "stream",
     "text": [
      "INFO:tensorflow:Assets written to: .\\model\\mnist_model01.hd5\\assets\n"
     ]
    }
   ],
   "source": [
    "# 모델 저장\n",
    "path = MODEL_DIR + \"mnist_model01.hd5\"\n",
    "model.save(path)"
   ]
  },
  {
   "cell_type": "code",
   "execution_count": 32,
   "metadata": {},
   "outputs": [],
   "source": [
    "# 기본 모델 삭제\n",
    "del model"
   ]
  },
  {
   "cell_type": "code",
   "execution_count": 33,
   "metadata": {},
   "outputs": [
    {
     "ename": "NameError",
     "evalue": "name 'model' is not defined",
     "output_type": "error",
     "traceback": [
      "\u001b[1;31m---------------------------------------------------------------------------\u001b[0m",
      "\u001b[1;31mNameError\u001b[0m                                 Traceback (most recent call last)",
      "\u001b[1;32m<ipython-input-33-c78326919260>\u001b[0m in \u001b[0;36m<module>\u001b[1;34m\u001b[0m\n\u001b[1;32m----> 1\u001b[1;33m \u001b[0mmodel\u001b[0m\u001b[1;33m.\u001b[0m\u001b[0mevaluate\u001b[0m\u001b[1;33m(\u001b[0m\u001b[0mX_test_reshape\u001b[0m\u001b[1;33m,\u001b[0m \u001b[0my_test_one_hot\u001b[0m\u001b[1;33m)\u001b[0m  \u001b[1;31m####삭제되고 없지\u001b[0m\u001b[1;33m\u001b[0m\u001b[1;33m\u001b[0m\u001b[0m\n\u001b[0m",
      "\u001b[1;31mNameError\u001b[0m: name 'model' is not defined"
     ]
    }
   ],
   "source": [
    "## model.evaluate(X_test_reshape, y_test_one_hot)  ####삭제되고 없지"
   ]
  },
  {
   "cell_type": "code",
   "execution_count": 35,
   "metadata": {},
   "outputs": [],
   "source": [
    "#저장한 모델 불러오기 ========================> 갱신된 w,b값 저장된 파일\n",
    "from tensorflow.keras.models import load_model\n",
    "\n",
    "model = load_model(path)"
   ]
  },
  {
   "cell_type": "code",
   "execution_count": 36,
   "metadata": {},
   "outputs": [
    {
     "name": "stdout",
     "output_type": "stream",
     "text": [
      "10000/10000 [==============================] - 0s 49us/sample - loss: 0.1228 - accuracy: 0.9771\n"
     ]
    },
    {
     "data": {
      "text/plain": [
       "[0.12277748135440852, 0.9771]"
      ]
     },
     "execution_count": 36,
     "metadata": {},
     "output_type": "execute_result"
    }
   ],
   "source": [
    "model.evaluate(X_test_reshape, y_test_one_hot)"
   ]
  },
  {
   "cell_type": "code",
   "execution_count": 42,
   "metadata": {},
   "outputs": [],
   "source": [
    "path2 = BEST_MODEL_DIR + \"mnist_016-0.9765.hd5\"   ##이 모델이 저장된 모델 중 정확도 높아서 가져온 것"
   ]
  },
  {
   "cell_type": "code",
   "execution_count": 43,
   "metadata": {},
   "outputs": [],
   "source": [
    "model1 = load_model(path2)"
   ]
  },
  {
   "cell_type": "code",
   "execution_count": 44,
   "metadata": {},
   "outputs": [
    {
     "name": "stdout",
     "output_type": "stream",
     "text": [
      "10000/10000 [==============================] - 0s 47us/sample - loss: 0.1139 - accuracy: 0.9775\n"
     ]
    },
    {
     "data": {
      "text/plain": [
       "[0.11392544238452537, 0.9775]"
      ]
     },
     "execution_count": 44,
     "metadata": {},
     "output_type": "execute_result"
    }
   ],
   "source": [
    "model1.evaluate(X_test_reshape, y_test_one_hot)"
   ]
  },
  {
   "cell_type": "code",
   "execution_count": 30,
   "metadata": {},
   "outputs": [
    {
     "name": "stdout",
     "output_type": "stream",
     "text": [
      "Model: \"sequential\"\n",
      "_________________________________________________________________\n",
      "Layer (type)                 Output Shape              Param #   \n",
      "=================================================================\n",
      "dense (Dense)                (None, 512)               401920    \n",
      "_________________________________________________________________\n",
      "dense_1 (Dense)              (None, 256)               131328    \n",
      "_________________________________________________________________\n",
      "dense_2 (Dense)              (None, 128)               32896     \n",
      "_________________________________________________________________\n",
      "dense_3 (Dense)              (None, 64)                8256      \n",
      "_________________________________________________________________\n",
      "dense_4 (Dense)              (None, 32)                2080      \n",
      "_________________________________________________________________\n",
      "dense_5 (Dense)              (None, 10)                330       \n",
      "=================================================================\n",
      "Total params: 576,810\n",
      "Trainable params: 576,810\n",
      "Non-trainable params: 0\n",
      "_________________________________________________________________\n"
     ]
    }
   ],
   "source": [
    "model.summary()"
   ]
  },
  {
   "cell_type": "markdown",
   "metadata": {},
   "source": [
    "Total params = 딥러닝에서 학습하는 가중치의 갯수"
   ]
  },
  {
   "cell_type": "code",
   "execution_count": null,
   "metadata": {},
   "outputs": [],
   "source": []
  }
 ],
 "metadata": {
  "kernelspec": {
   "display_name": "Python 3",
   "language": "python",
   "name": "python3"
  },
  "language_info": {
   "codemirror_mode": {
    "name": "ipython",
    "version": 3
   },
   "file_extension": ".py",
   "mimetype": "text/x-python",
   "name": "python",
   "nbconvert_exporter": "python",
   "pygments_lexer": "ipython3",
   "version": "3.6.12"
  }
 },
 "nbformat": 4,
 "nbformat_minor": 4
}
