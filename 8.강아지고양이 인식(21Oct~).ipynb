{
 "cells": [
  {
   "cell_type": "code",
   "execution_count": 1,
   "metadata": {},
   "outputs": [],
   "source": [
    "import os"
   ]
  },
  {
   "cell_type": "code",
   "execution_count": 2,
   "metadata": {},
   "outputs": [
    {
     "name": "stdout",
     "output_type": "stream",
     "text": [
      "train(개) 개수 :  1000\n",
      "train(고양이) 개수 :  1000\n",
      "test(개) 개수 :  500\n",
      "test(고양이) 개수 :  500\n",
      "validation(개) 개수 :  500\n",
      "validation(고양이) 개수 :  500\n"
     ]
    }
   ],
   "source": [
    "train_cats_dir = \"./Data1/cats_and_dogs_small/train/cats\"\n",
    "train_dogs_dir = \"./Data1/cats_and_dogs_small/train/dogs\"\n",
    "test_cats_dir = \"./Data1/cats_and_dogs_small/test/cats\"\n",
    "test_dogs_dir = \"./Data1/cats_and_dogs_small/test/dogs\"\n",
    "validation_cats_dir = \"./Data1/cats_and_dogs_small/validation/cats\"\n",
    "validation_dogs_dir = \"./Data1/cats_and_dogs_small/validation/dogs\"\n",
    "\n",
    "print(\"train(개) 개수 : \",len(os.listdir(train_dogs_dir)))\n",
    "print(\"train(고양이) 개수 : \",len(os.listdir(train_cats_dir)))\n",
    "print(\"test(개) 개수 : \",len(os.listdir(test_dogs_dir)))\n",
    "print(\"test(고양이) 개수 : \",len(os.listdir(test_cats_dir)))\n",
    "print(\"validation(개) 개수 : \",len(os.listdir(validation_dogs_dir)))\n",
    "print(\"validation(고양이) 개수 : \",len(os.listdir(validation_cats_dir)))"
   ]
  },
  {
   "cell_type": "markdown",
   "metadata": {},
   "source": [
    "### generator를 이용한 이미지 전처리"
   ]
  },
  {
   "cell_type": "code",
   "execution_count": null,
   "metadata": {},
   "outputs": [],
   "source": [
    "# 이미지 전처리 (전처리(변환), 증식)\n",
    "from tensorflow.keras.preprocessing.image import ImageDataGenerator\n",
    "\n",
    "# 픽셀값을 0-255 범위에서 0.0-1.0 범위로 변경\n",
    "train_gen = ImageDataGenerator(rescale=1.0/255)\n",
    "test_gen = ImageDataGenerator(rescale=1.0/255)\n",
    "\n",
    "# 폴더로부터 데이터를 가져와서 처리\n",
    "train_dir = \"./Data1/cats_and_dogs_small/train/\"\n",
    "test_dir = \"./Data1/cats_and_dogs_small/test/\"\n",
    "validation_dir = \"./Data1/cats_and_dogs_small/validation/\"\n",
    "\n",
    "train_generator = train_gen.flow_from_directory()\n",
    "\n",
    "test_generator = test_gen.flow_from_directory()"
   ]
  },
  {
   "cell_type": "code",
   "execution_count": null,
   "metadata": {},
   "outputs": [],
   "source": []
  },
  {
   "cell_type": "code",
   "execution_count": null,
   "metadata": {},
   "outputs": [],
   "source": []
  },
  {
   "cell_type": "code",
   "execution_count": null,
   "metadata": {},
   "outputs": [],
   "source": []
  },
  {
   "cell_type": "code",
   "execution_count": null,
   "metadata": {},
   "outputs": [],
   "source": []
  },
  {
   "cell_type": "code",
   "execution_count": null,
   "metadata": {},
   "outputs": [],
   "source": []
  },
  {
   "cell_type": "code",
   "execution_count": null,
   "metadata": {},
   "outputs": [],
   "source": []
  },
  {
   "cell_type": "code",
   "execution_count": null,
   "metadata": {},
   "outputs": [],
   "source": []
  },
  {
   "cell_type": "code",
   "execution_count": null,
   "metadata": {},
   "outputs": [],
   "source": []
  },
  {
   "cell_type": "code",
   "execution_count": null,
   "metadata": {},
   "outputs": [],
   "source": []
  },
  {
   "cell_type": "code",
   "execution_count": null,
   "metadata": {},
   "outputs": [],
   "source": []
  },
  {
   "cell_type": "code",
   "execution_count": null,
   "metadata": {},
   "outputs": [],
   "source": []
  }
 ],
 "metadata": {
  "kernelspec": {
   "display_name": "Python 3",
   "language": "python",
   "name": "python3"
  },
  "language_info": {
   "codemirror_mode": {
    "name": "ipython",
    "version": 3
   },
   "file_extension": ".py",
   "mimetype": "text/x-python",
   "name": "python",
   "nbconvert_exporter": "python",
   "pygments_lexer": "ipython3",
   "version": "3.6.12"
  }
 },
 "nbformat": 4,
 "nbformat_minor": 4
}
